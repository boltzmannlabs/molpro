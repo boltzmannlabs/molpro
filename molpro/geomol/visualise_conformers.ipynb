{
 "cells": [
  {
   "cell_type": "code",
   "execution_count": null,
   "id": "6bc73b65",
   "metadata": {},
   "outputs": [],
   "source": [
    "from rdkit import Chem\n",
    "from ipywidgets import interact, fixed, IntSlider\n",
    "import ipywidgets\n",
    "import py3Dmol\n",
    "from molpro.geomol.predict import generate_conformers"
   ]
  },
  {
   "cell_type": "code",
   "execution_count": null,
   "id": "88df513c",
   "metadata": {},
   "outputs": [],
   "source": [
    "def show_mol(mol, view, grid):\n",
    "    mb = Chem.MolToMolBlock(mol)\n",
    "    view.removeAllModels(viewer=grid)\n",
    "    view.addModel(mb,'sdf', viewer=grid)\n",
    "    view.setStyle({'model':0},{'stick': {}}, viewer=grid)\n",
    "    view.zoomTo(viewer=grid)\n",
    "    return view\n",
    "\n",
    "def view_single(mol):\n",
    "    view = py3Dmol.view(width=600, height=600, linked=False, viewergrid=(1,1))\n",
    "    show_mol(mol, view, grid=(0, 0))\n",
    "    return view\n",
    "\n",
    "def MolTo3DView(mol, size=(600, 600), style=\"stick\", surface=False, opacity=0.5, confId=0):\n",
    "    \"\"\"Draw molecule in 3D\n",
    "    \n",
    "    Args:\n",
    "    ----\n",
    "        mol: rdMol, molecule to show\n",
    "        size: tuple(int, int), canvas size\n",
    "        style: str, type of drawing molecule\n",
    "               style can be 'line', 'stick', 'sphere', 'carton'\n",
    "        surface, bool, display SAS\n",
    "        opacity, float, opacity of surface, range 0.0-1.0\n",
    "    Return:\n",
    "    ----\n",
    "        viewer: py3Dmol.view, a class for constructing embedded 3Dmol.js views in ipython notebooks.\n",
    "    \"\"\"\n",
    "    assert style in ('line', 'stick', 'sphere', 'carton')\n",
    "    mblock = Chem.MolToMolBlock(mol[confId])\n",
    "    viewer = py3Dmol.view(width=size[0], height=size[1])\n",
    "    viewer.addModel(mblock, 'mol')\n",
    "    viewer.setStyle({style:{}})\n",
    "    if surface:\n",
    "        viewer.addSurface(py3Dmol.SAS, {'opacity': opacity})\n",
    "    viewer.zoomTo()\n",
    "    return viewer\n",
    "\n",
    "def conf_viewer(idx, mol):\n",
    "    return MolTo3DView(mol, confId=idx).show()"
   ]
  },
  {
   "cell_type": "code",
   "execution_count": null,
   "id": "4ce0cf79",
   "metadata": {},
   "outputs": [],
   "source": [
    "generated_conformers =  generate_conformers(input_smiles:List[str],hparams_path:str=None,checkpoint_path :str=None,\n",
    "                            n_conformers:int=10,dataset :str =\"drugs\",mmff: bool =False) "
   ]
  },
  {
   "cell_type": "code",
   "execution_count": null,
   "id": "8461f39d",
   "metadata": {},
   "outputs": [],
   "source": [
    "index_of_smile = 0 # index of the smile in input_smile list for which you want to visualise generated conformers\n",
    "\n",
    "smile = input_smiles[index_of_smile]\n",
    "print(\"Smile is :\",smile)\n",
    "\n",
    "mol_graph = Chem.MolFromSmiles(smi)\n",
    "print(\"Graph of smile is :\\n\")\n",
    "display(mol_graph)\n",
    "\n",
    "mols = generated_conformers.get(smile)\n",
    "interact(conf_viewer, idx=ipywidgets.IntSlider(min=0, max=len(mols)-1, step=1), mol=fixed(mols));"
   ]
  },
  {
   "cell_type": "code",
   "execution_count": null,
   "id": "69c08b16",
   "metadata": {},
   "outputs": [],
   "source": []
  }
 ],
 "metadata": {
  "kernelspec": {
   "display_name": "Python [conda env:molpro]",
   "language": "python",
   "name": "conda-env-molpro-py"
  },
  "language_info": {
   "codemirror_mode": {
    "name": "ipython",
    "version": 3
   },
   "file_extension": ".py",
   "mimetype": "text/x-python",
   "name": "python",
   "nbconvert_exporter": "python",
   "pygments_lexer": "ipython3",
   "version": "3.7.11"
  }
 },
 "nbformat": 4,
 "nbformat_minor": 5
}
